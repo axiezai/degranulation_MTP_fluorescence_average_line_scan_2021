{
 "cells": [
  {
   "cell_type": "code",
   "execution_count": 1,
   "metadata": {},
   "outputs": [],
   "source": [
    "import os\n",
    "import glob\n",
    "import natsort\n",
    "import numpy as np\n",
    "import matplotlib.pyplot as plt\n",
    "import pandas as pd"
   ]
  },
  {
   "cell_type": "markdown",
   "metadata": {},
   "source": [
    "# Some signal averaging for Mitchell\n",
    "\n",
    "## Load files first\n",
    "The example data files are all placed in `data` folder, write a function to create a list of files in memory:"
   ]
  },
  {
   "cell_type": "code",
   "execution_count": 2,
   "metadata": {},
   "outputs": [],
   "source": [
    "def get_files(pattern):\n",
    "    \"\"\"\n",
    "    Extracts file in alphanumerical order that match the provided pattern\n",
    "    \"\"\"\n",
    "    if isinstance(pattern, list):\n",
    "        pattern = os.path.join(*pattern)\n",
    "        \n",
    "    files = natsort.natsorted(glob.glob(pattern))\n",
    "    if not files:\n",
    "        raise FileNotFoundError('Pattern could not detect file(s)')\n",
    "        \n",
    "    return files"
   ]
  },
  {
   "cell_type": "markdown",
   "metadata": {},
   "source": [
    "### Inputs Cell:\n",
    "\n",
    "Place your path to input and output directories in `\" \"`."
   ]
  },
  {
   "cell_type": "code",
   "execution_count": 3,
   "metadata": {},
   "outputs": [],
   "source": [
    "data_dir = 'data'    # Replace data with relative path to new folder like I mentioned before\n",
    "output_dir = 'outputs'    # same replacement for outputs"
   ]
  },
  {
   "cell_type": "markdown",
   "metadata": {},
   "source": [
    "Load as `DataFrames`, mag or magenta should work now."
   ]
  },
  {
   "cell_type": "code",
   "execution_count": 4,
   "metadata": {},
   "outputs": [
    {
     "name": "stdout",
     "output_type": "stream",
     "text": [
      "There are 168 data csv files\n"
     ]
    }
   ],
   "source": [
    "import re\n",
    "\n",
    "data_files = get_files(data_dir + '/*.csv')\n",
    "print('There are {} data csv files'.format(len(data_files)))\n",
    "\n",
    "# split into cyan, yellow, magenta\n",
    "cyan_data = [val for val in data_files if re.search(r'cyan\\.csv', val)]\n",
    "yellow_data = [val for val in data_files if re.search(r'yellow\\.csv', val)]\n",
    "magenta_data = [val for val in data_files if re.search(r'(mag|magenta)\\.csv', val)]\n",
    "\n",
    "# sanity check to make sure they are the same number of files\n",
    "assert len(cyan_data)==len(yellow_data)==len(magenta_data)"
   ]
  },
  {
   "cell_type": "markdown",
   "metadata": {},
   "source": [
    "## Create channel specific dataframes"
   ]
  },
  {
   "cell_type": "code",
   "execution_count": 5,
   "metadata": {},
   "outputs": [
    {
     "data": {
      "text/html": [
       "<div>\n",
       "<style scoped>\n",
       "    .dataframe tbody tr th:only-of-type {\n",
       "        vertical-align: middle;\n",
       "    }\n",
       "\n",
       "    .dataframe tbody tr th {\n",
       "        vertical-align: top;\n",
       "    }\n",
       "\n",
       "    .dataframe thead th {\n",
       "        text-align: right;\n",
       "    }\n",
       "</style>\n",
       "<table border=\"1\" class=\"dataframe\">\n",
       "  <thead>\n",
       "    <tr style=\"text-align: right;\">\n",
       "      <th></th>\n",
       "      <th>0</th>\n",
       "      <th>1</th>\n",
       "      <th>2</th>\n",
       "      <th>3</th>\n",
       "      <th>4</th>\n",
       "      <th>5</th>\n",
       "      <th>6</th>\n",
       "      <th>7</th>\n",
       "      <th>8</th>\n",
       "      <th>9</th>\n",
       "      <th>...</th>\n",
       "      <th>46</th>\n",
       "      <th>47</th>\n",
       "      <th>48</th>\n",
       "      <th>49</th>\n",
       "      <th>50</th>\n",
       "      <th>51</th>\n",
       "      <th>52</th>\n",
       "      <th>53</th>\n",
       "      <th>54</th>\n",
       "      <th>55</th>\n",
       "    </tr>\n",
       "  </thead>\n",
       "  <tbody>\n",
       "    <tr>\n",
       "      <th>0</th>\n",
       "      <td>289.863</td>\n",
       "      <td>792.889</td>\n",
       "      <td>302.869</td>\n",
       "      <td>371.121</td>\n",
       "      <td>140.696</td>\n",
       "      <td>334.924</td>\n",
       "      <td>299.704</td>\n",
       "      <td>353.357</td>\n",
       "      <td>631.267</td>\n",
       "      <td>466.130</td>\n",
       "      <td>...</td>\n",
       "      <td>96.078</td>\n",
       "      <td>276.816</td>\n",
       "      <td>266.222</td>\n",
       "      <td>219.779</td>\n",
       "      <td>754.120</td>\n",
       "      <td>488.254</td>\n",
       "      <td>669.577</td>\n",
       "      <td>73.255</td>\n",
       "      <td>446.116</td>\n",
       "      <td>384.237</td>\n",
       "    </tr>\n",
       "    <tr>\n",
       "      <th>1</th>\n",
       "      <td>291.704</td>\n",
       "      <td>587.853</td>\n",
       "      <td>215.438</td>\n",
       "      <td>350.101</td>\n",
       "      <td>130.079</td>\n",
       "      <td>184.644</td>\n",
       "      <td>159.297</td>\n",
       "      <td>384.376</td>\n",
       "      <td>626.304</td>\n",
       "      <td>339.646</td>\n",
       "      <td>...</td>\n",
       "      <td>103.717</td>\n",
       "      <td>344.160</td>\n",
       "      <td>259.550</td>\n",
       "      <td>140.388</td>\n",
       "      <td>689.636</td>\n",
       "      <td>573.782</td>\n",
       "      <td>578.182</td>\n",
       "      <td>158.501</td>\n",
       "      <td>508.400</td>\n",
       "      <td>394.645</td>\n",
       "    </tr>\n",
       "    <tr>\n",
       "      <th>2</th>\n",
       "      <td>394.281</td>\n",
       "      <td>390.960</td>\n",
       "      <td>146.048</td>\n",
       "      <td>532.695</td>\n",
       "      <td>140.317</td>\n",
       "      <td>186.202</td>\n",
       "      <td>201.759</td>\n",
       "      <td>314.848</td>\n",
       "      <td>573.621</td>\n",
       "      <td>459.111</td>\n",
       "      <td>...</td>\n",
       "      <td>144.980</td>\n",
       "      <td>343.142</td>\n",
       "      <td>235.141</td>\n",
       "      <td>248.528</td>\n",
       "      <td>600.701</td>\n",
       "      <td>496.957</td>\n",
       "      <td>562.589</td>\n",
       "      <td>161.242</td>\n",
       "      <td>428.764</td>\n",
       "      <td>364.166</td>\n",
       "    </tr>\n",
       "    <tr>\n",
       "      <th>3</th>\n",
       "      <td>411.526</td>\n",
       "      <td>424.690</td>\n",
       "      <td>195.087</td>\n",
       "      <td>560.279</td>\n",
       "      <td>148.483</td>\n",
       "      <td>172.712</td>\n",
       "      <td>205.261</td>\n",
       "      <td>335.292</td>\n",
       "      <td>389.180</td>\n",
       "      <td>421.931</td>\n",
       "      <td>...</td>\n",
       "      <td>76.867</td>\n",
       "      <td>217.119</td>\n",
       "      <td>228.931</td>\n",
       "      <td>318.952</td>\n",
       "      <td>513.784</td>\n",
       "      <td>358.028</td>\n",
       "      <td>628.985</td>\n",
       "      <td>64.746</td>\n",
       "      <td>377.364</td>\n",
       "      <td>376.755</td>\n",
       "    </tr>\n",
       "    <tr>\n",
       "      <th>4</th>\n",
       "      <td>352.564</td>\n",
       "      <td>461.656</td>\n",
       "      <td>204.790</td>\n",
       "      <td>497.579</td>\n",
       "      <td>159.929</td>\n",
       "      <td>235.265</td>\n",
       "      <td>268.972</td>\n",
       "      <td>387.189</td>\n",
       "      <td>399.120</td>\n",
       "      <td>437.170</td>\n",
       "      <td>...</td>\n",
       "      <td>98.427</td>\n",
       "      <td>196.381</td>\n",
       "      <td>260.193</td>\n",
       "      <td>439.384</td>\n",
       "      <td>478.446</td>\n",
       "      <td>289.196</td>\n",
       "      <td>564.748</td>\n",
       "      <td>67.193</td>\n",
       "      <td>396.536</td>\n",
       "      <td>302.703</td>\n",
       "    </tr>\n",
       "  </tbody>\n",
       "</table>\n",
       "<p>5 rows × 56 columns</p>\n",
       "</div>"
      ],
      "text/plain": [
       "        0        1        2        3        4        5        6        7   \\\n",
       "0  289.863  792.889  302.869  371.121  140.696  334.924  299.704  353.357   \n",
       "1  291.704  587.853  215.438  350.101  130.079  184.644  159.297  384.376   \n",
       "2  394.281  390.960  146.048  532.695  140.317  186.202  201.759  314.848   \n",
       "3  411.526  424.690  195.087  560.279  148.483  172.712  205.261  335.292   \n",
       "4  352.564  461.656  204.790  497.579  159.929  235.265  268.972  387.189   \n",
       "\n",
       "        8        9   ...       46       47       48       49       50  \\\n",
       "0  631.267  466.130  ...   96.078  276.816  266.222  219.779  754.120   \n",
       "1  626.304  339.646  ...  103.717  344.160  259.550  140.388  689.636   \n",
       "2  573.621  459.111  ...  144.980  343.142  235.141  248.528  600.701   \n",
       "3  389.180  421.931  ...   76.867  217.119  228.931  318.952  513.784   \n",
       "4  399.120  437.170  ...   98.427  196.381  260.193  439.384  478.446   \n",
       "\n",
       "        51       52       53       54       55  \n",
       "0  488.254  669.577   73.255  446.116  384.237  \n",
       "1  573.782  578.182  158.501  508.400  394.645  \n",
       "2  496.957  562.589  161.242  428.764  364.166  \n",
       "3  358.028  628.985   64.746  377.364  376.755  \n",
       "4  289.196  564.748   67.193  396.536  302.703  \n",
       "\n",
       "[5 rows x 56 columns]"
      ]
     },
     "execution_count": 5,
     "metadata": {},
     "output_type": "execute_result"
    }
   ],
   "source": [
    "df_cyan = pd.concat((pd.read_csv(f, usecols=['Value']) for f in cyan_data), axis = 1).fillna(0)\n",
    "df_yellow = pd.concat((pd.read_csv(f, usecols=['Value']) for f in yellow_data), axis = 1).fillna(0)\n",
    "df_magenta = pd.concat((pd.read_csv(f, usecols=['Value']) for f in magenta_data), axis = 1).fillna(0)\n",
    "\n",
    "df_cyan.columns = np.arange(df_cyan.shape[1])\n",
    "df_yellow.columns = np.arange(df_yellow.shape[1])\n",
    "df_magenta.columns = np.arange(df_magenta.shape[1])\n",
    "# show example:\n",
    "df_magenta.head()"
   ]
  },
  {
   "cell_type": "markdown",
   "metadata": {},
   "source": [
    "Now we have 3 Nx56 dataframes that are actually usable ... not stupid `.csv` files"
   ]
  },
  {
   "cell_type": "markdown",
   "metadata": {},
   "source": [
    "Now we write a function to realign the data:"
   ]
  },
  {
   "cell_type": "code",
   "execution_count": 6,
   "metadata": {},
   "outputs": [],
   "source": [
    "def find_middle(in_column):\n",
    "    \"\"\"\n",
    "    Find the middle index of input data column/array\n",
    "    \"\"\"\n",
    "    middle = float(len(in_column))/2\n",
    "    # if even, pick the first value, if odd, keep middle\n",
    "    if middle % 2 != 0:\n",
    "        # odd\n",
    "        return int(np.floor(middle))\n",
    "    else:\n",
    "        return int(middle)\n",
    "    \n",
    "\n",
    "def realign_data(in_data, align = \"max\"):\n",
    "    \"\"\"\n",
    "    Center data around maximum or center of shortest column, pad with 0's \n",
    "    Args:\n",
    "        in_data: array of input data\n",
    "        align (str): \"max\" or \"center\", max will provide shifts to align maximum of input  data, whereas \"center\" will shift to middle index.\n",
    "    \n",
    "    Returns:\n",
    "        d - new dataframe with realigned data\n",
    "        shifts - how each entry was shifted\n",
    "    \"\"\"\n",
    "    x, y = in_data.shape\n",
    "    d = pd.DataFrame(0, index=np.arange(x), columns = np.arange(y))\n",
    "    shifts = np.zeros(y)\n",
    "    \n",
    "    # Find longest length sample and find it's peak/midpoint\n",
    "    ind_longest = np.argmin((in_data == 0).astype(int).sum(axis=0).values)\n",
    "    peak_longest = np.argmax(in_data.loc[:, ind_longest].values)\n",
    "    mid_longest = find_middle(in_data.index[in_data[ind_longest]!=0].values)\n",
    "    \n",
    "    # arrange the rest of the data's peaks into the new dataframe lining up to longest peak or longest midpoint\n",
    "    for column in in_data:\n",
    "        if align == \"max\":\n",
    "            peak = np.argmax(in_data[column].values)\n",
    "            pdiff = peak_longest - peak\n",
    "            d[column] = in_data[column].shift(periods=pdiff, fill_value=0)\n",
    "            # check shifted max location of input is same as reference peak\n",
    "            assert np.argmax(d[column]) == peak_longest\n",
    "            shifts[column] = pdiff\n",
    "        elif align == \"center\":\n",
    "            mid = find_middle(in_data.index[in_data[column]!=0].values)\n",
    "            pdiff = mid_longest - mid\n",
    "            d[column] = in_data[column].shift(periods=pdiff, fill_value=0)\n",
    "            assert find_middle(d[column].values) == mid_longest\n",
    "            shifts[column] = pdiff\n",
    "            \n",
    "    return d, shifts\n",
    "\n",
    "def shift_data(in_data, shifts):\n",
    "    \"\"\"\n",
    "    Shift dataframe columns based on input reference shifts\n",
    "    \n",
    "    Returns:\n",
    "        d - new shifted dataframe\n",
    "    \"\"\"\n",
    "    x, y = in_data.shape\n",
    "    d = pd.DataFrame(0, index=np.arange(x), columns = np.arange(y))\n",
    "    ind_shifts = shifts.astype(int)\n",
    "    for column in in_data:\n",
    "        d[column] = in_data[column].shift(periods=ind_shifts[column], fill_value=0)\n",
    "        \n",
    "    return d"
   ]
  },
  {
   "cell_type": "markdown",
   "metadata": {},
   "source": [
    "### Visualize the averaged aligned curve:\n",
    "\n",
    "For the function `realign_data`, edit the second argument `align` to either `max` or `center` based on your needs."
   ]
  },
  {
   "cell_type": "code",
   "execution_count": 7,
   "metadata": {},
   "outputs": [],
   "source": [
    "from sklearn.preprocessing import minmax_scale\n",
    "\n",
    "cyan_aligned, shifts = realign_data(df_cyan, align = \"max\")    # change \"max\" or \"center\" based on your needs\n",
    "yellow_aligned = shift_data(df_yellow, shifts)\n",
    "magenta_aligned = shift_data(df_magenta, shifts)\n",
    "\n",
    "ave_cyan = np.zeros(cyan_aligned.shape[0])\n",
    "ave_yellow = np.zeros(yellow_aligned.shape[0])\n",
    "ave_magenta = np.zeros(magenta_aligned.shape[0])"
   ]
  },
  {
   "cell_type": "code",
   "execution_count": 8,
   "metadata": {},
   "outputs": [
    {
     "data": {
      "text/plain": [
       "[<matplotlib.lines.Line2D at 0x7fcdb0a7ca50>]"
      ]
     },
     "execution_count": 8,
     "metadata": {},
     "output_type": "execute_result"
    },
    {
     "data": {
      "image/png": "[encoded data removed]",
      "text/plain": [
       "<Figure size 432x288 with 1 Axes>"
      ]
     },
     "metadata": {
      "needs_background": "light"
     },
     "output_type": "display_data"
    }
   ],
   "source": [
    "for index, row in cyan_aligned.iterrows():\n",
    "    #vec = cyan_aligned.loc[index,:].values\n",
    "    val = row[row != 0]\n",
    "    ave_cyan[index] = np.mean(val)\n",
    "\n",
    "for column, vals in cyan_aligned.iteritems():\n",
    "    event_ind = cyan_aligned.index[cyan_aligned[column]!=0].tolist()\n",
    "    cyan_aligned.loc[event_ind, column] = minmax_scale(cyan_aligned.loc[event_ind,column].values)\n",
    "plt.plot(minmax_scale(ave_cyan))"
   ]
  },
  {
   "cell_type": "code",
   "execution_count": 9,
   "metadata": {},
   "outputs": [
    {
     "data": {
      "text/plain": [
       "[<matplotlib.lines.Line2D at 0x7fcdd0cc36d0>]"
      ]
     },
     "execution_count": 9,
     "metadata": {},
     "output_type": "execute_result"
    },
    {
     "data": {
      "image/png": "[encoded data removed]",
      "text/plain": [
       "<Figure size 432x288 with 1 Axes>"
      ]
     },
     "metadata": {
      "needs_background": "light"
     },
     "output_type": "display_data"
    }
   ],
   "source": [
    "for index, row in yellow_aligned.iterrows():\n",
    "    val = row[row!=0]\n",
    "    ave_yellow[index] = np.mean(val)\n",
    "\n",
    "for column, vals in yellow_aligned.iteritems():\n",
    "    event_ind = yellow_aligned.index[yellow_aligned[column]!=0].tolist()\n",
    "    yellow_aligned.loc[event_ind, column] = minmax_scale(yellow_aligned.loc[event_ind,column].values)\n",
    "    \n",
    "plt.plot(minmax_scale(ave_yellow))"
   ]
  },
  {
   "cell_type": "code",
   "execution_count": 10,
   "metadata": {},
   "outputs": [
    {
     "data": {
      "text/plain": [
       "[<matplotlib.lines.Line2D at 0x7fcdc1003b90>]"
      ]
     },
     "execution_count": 10,
     "metadata": {},
     "output_type": "execute_result"
    },
    {
     "data": {
      "image/png": "[encoded data removed]",
      "text/plain": [
       "<Figure size 432x288 with 1 Axes>"
      ]
     },
     "metadata": {
      "needs_background": "light"
     },
     "output_type": "display_data"
    }
   ],
   "source": [
    "for index, row in magenta_aligned.iterrows():\n",
    "    val = row[row!=0]\n",
    "    ave_magenta[index] = np.mean(val)\n",
    "\n",
    "for column, vals in magenta_aligned.iteritems():\n",
    "    event_ind = magenta_aligned.index[magenta_aligned[column]!=0].tolist()\n",
    "    magenta_aligned.loc[event_ind, column] = minmax_scale(magenta_aligned.loc[event_ind,column].values)\n",
    "    \n",
    "plt.plot(minmax_scale(ave_magenta))"
   ]
  },
  {
   "cell_type": "markdown",
   "metadata": {},
   "source": [
    "## Together:"
   ]
  },
  {
   "cell_type": "code",
   "execution_count": 11,
   "metadata": {},
   "outputs": [
    {
     "data": {
      "text/plain": [
       "[<matplotlib.lines.Line2D at 0x7fce00a43b50>]"
      ]
     },
     "execution_count": 11,
     "metadata": {},
     "output_type": "execute_result"
    },
    {
     "data": {
      "image/png": "[encoded data removed]",
      "text/plain": [
       "<Figure size 432x288 with 1 Axes>"
      ]
     },
     "metadata": {
      "needs_background": "light"
     },
     "output_type": "display_data"
    }
   ],
   "source": [
    "fig, ax = plt.subplots()\n",
    "ax.plot(minmax_scale(ave_cyan), c='c')\n",
    "ax.plot(minmax_scale(ave_yellow), c='y')\n",
    "ax.plot(minmax_scale(ave_magenta), c='m')"
   ]
  },
  {
   "cell_type": "markdown",
   "metadata": {},
   "source": [
    "### Save as `outputs/.csv` \n",
    "\n",
    "Save the averages as 1 `csv` file where each column is a color. And save each individual colors as separate `csv` files."
   ]
  },
  {
   "cell_type": "code",
   "execution_count": 12,
   "metadata": {},
   "outputs": [],
   "source": [
    "df_example_average = pd.DataFrame({'cyan': minmax_scale(ave_cyan),\n",
    "                                   'yellow': minmax_scale(ave_yellow),\n",
    "                                   'magenta': minmax_scale(ave_magenta)})\n",
    "# exports:\n",
    "df_example_average.to_csv(output_dir+'/averages.csv', index = False)    # export averages for all 3 channels\n",
    "cyan_aligned.to_csv(output_dir+'/cyan_data.csv', index=False)           # cyan aligned and normalized\n",
    "yellow_aligned.to_csv(output_dir+'/yellow_data.csv', index=False)       # yellow aligned and normalized\n",
    "magenta_aligned.to_csv(output_dir+'/magenta_data.csv', index=False)     # magenta aligned and normalized"
   ]
  }
 ],
 "metadata": {
  "kernelspec": {
   "display_name": "image_py3",
   "language": "python",
   "name": "image_py3"
  },
  "language_info": {
   "codemirror_mode": {
    "name": "ipython",
    "version": 3
   },
   "file_extension": ".py",
   "mimetype": "text/x-python",
   "name": "python",
   "nbconvert_exporter": "python",
   "pygments_lexer": "ipython3",
   "version": "3.7.8"
  }
 },
 "nbformat": 4,
 "nbformat_minor": 4
}
