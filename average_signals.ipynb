{
 "cells": [
  {
   "cell_type": "code",
   "execution_count": 66,
   "metadata": {},
   "outputs": [],
   "source": [
    "import os\n",
    "import glob\n",
    "import natsort\n",
    "import numpy as np\n",
    "import matplotlib.pyplot as plt\n",
    "import pandas as pd"
   ]
  },
  {
   "cell_type": "markdown",
   "metadata": {},
   "source": [
    "# Some signal averaging for Mitchell\n",
    "\n",
    "## Load files first\n",
    "The data files are all placed in `data` folder"
   ]
  },
  {
   "cell_type": "code",
   "execution_count": 2,
   "metadata": {},
   "outputs": [],
   "source": [
    "def get_files(pattern):\n",
    "    \"\"\"\n",
    "    Extracts file in alphanumerical order that match the provided pattern\n",
    "    \"\"\"\n",
    "    if isinstance(pattern, list):\n",
    "        pattern = os.path.join(*pattern)\n",
    "        \n",
    "    files = natsort.natsorted(glob.glob(pattern))\n",
    "    if not files:\n",
    "        raise FileNotFoundError('Pattern could not detect file(s)')\n",
    "        \n",
    "    return files"
   ]
  },
  {
   "cell_type": "code",
   "execution_count": 22,
   "metadata": {},
   "outputs": [
    {
     "name": "stdout",
     "output_type": "stream",
     "text": [
      "There are 168 data csv files\n"
     ]
    }
   ],
   "source": [
    "import re\n",
    "\n",
    "data_files = get_files('data/*.csv')\n",
    "print('There are {} data csv files'.format(len(data_files)))\n",
    "\n",
    "# split into cyan, yellow, magenta\n",
    "cyan_data = [val for val in data_files if re.search(r'cyan\\.csv', val)]\n",
    "yellow_data = [val for val in data_files if re.search(r'yellow\\.csv', val)]\n",
    "magenta_data = [val for val in data_files if re.search(r'magenta\\.csv', val)]\n",
    "\n",
    "# sanity check to make sure they are the same number of files\n",
    "assert len(cyan_data)==len(yellow_data)==len(magenta_data)"
   ]
  },
  {
   "cell_type": "markdown",
   "metadata": {},
   "source": [
    "## Create channel specific dataframes"
   ]
  },
  {
   "cell_type": "code",
   "execution_count": 33,
   "metadata": {},
   "outputs": [
    {
     "data": {
      "text/html": [
       "<div>\n",
       "<style scoped>\n",
       "    .dataframe tbody tr th:only-of-type {\n",
       "        vertical-align: middle;\n",
       "    }\n",
       "\n",
       "    .dataframe tbody tr th {\n",
       "        vertical-align: top;\n",
       "    }\n",
       "\n",
       "    .dataframe thead th {\n",
       "        text-align: right;\n",
       "    }\n",
       "</style>\n",
       "<table border=\"1\" class=\"dataframe\">\n",
       "  <thead>\n",
       "    <tr style=\"text-align: right;\">\n",
       "      <th></th>\n",
       "      <th>Value</th>\n",
       "      <th>Value</th>\n",
       "      <th>Value</th>\n",
       "      <th>Value</th>\n",
       "      <th>Value</th>\n",
       "      <th>Value</th>\n",
       "      <th>Value</th>\n",
       "      <th>Value</th>\n",
       "      <th>Value</th>\n",
       "      <th>Value</th>\n",
       "      <th>...</th>\n",
       "      <th>Value</th>\n",
       "      <th>Value</th>\n",
       "      <th>Value</th>\n",
       "      <th>Value</th>\n",
       "      <th>Value</th>\n",
       "      <th>Value</th>\n",
       "      <th>Value</th>\n",
       "      <th>Value</th>\n",
       "      <th>Value</th>\n",
       "      <th>Value</th>\n",
       "    </tr>\n",
       "  </thead>\n",
       "  <tbody>\n",
       "    <tr>\n",
       "      <th>0</th>\n",
       "      <td>289.863</td>\n",
       "      <td>792.889</td>\n",
       "      <td>302.869</td>\n",
       "      <td>371.121</td>\n",
       "      <td>140.696</td>\n",
       "      <td>334.924</td>\n",
       "      <td>299.704</td>\n",
       "      <td>353.357</td>\n",
       "      <td>631.267</td>\n",
       "      <td>466.130</td>\n",
       "      <td>...</td>\n",
       "      <td>96.078</td>\n",
       "      <td>276.816</td>\n",
       "      <td>266.222</td>\n",
       "      <td>219.779</td>\n",
       "      <td>754.120</td>\n",
       "      <td>488.254</td>\n",
       "      <td>669.577</td>\n",
       "      <td>73.255</td>\n",
       "      <td>446.116</td>\n",
       "      <td>384.237</td>\n",
       "    </tr>\n",
       "    <tr>\n",
       "      <th>1</th>\n",
       "      <td>291.704</td>\n",
       "      <td>587.853</td>\n",
       "      <td>215.438</td>\n",
       "      <td>350.101</td>\n",
       "      <td>130.079</td>\n",
       "      <td>184.644</td>\n",
       "      <td>159.297</td>\n",
       "      <td>384.376</td>\n",
       "      <td>626.304</td>\n",
       "      <td>339.646</td>\n",
       "      <td>...</td>\n",
       "      <td>103.717</td>\n",
       "      <td>344.160</td>\n",
       "      <td>259.550</td>\n",
       "      <td>140.388</td>\n",
       "      <td>689.636</td>\n",
       "      <td>573.782</td>\n",
       "      <td>578.182</td>\n",
       "      <td>158.501</td>\n",
       "      <td>508.400</td>\n",
       "      <td>394.645</td>\n",
       "    </tr>\n",
       "    <tr>\n",
       "      <th>2</th>\n",
       "      <td>394.281</td>\n",
       "      <td>390.960</td>\n",
       "      <td>146.048</td>\n",
       "      <td>532.695</td>\n",
       "      <td>140.317</td>\n",
       "      <td>186.202</td>\n",
       "      <td>201.759</td>\n",
       "      <td>314.848</td>\n",
       "      <td>573.621</td>\n",
       "      <td>459.111</td>\n",
       "      <td>...</td>\n",
       "      <td>144.980</td>\n",
       "      <td>343.142</td>\n",
       "      <td>235.141</td>\n",
       "      <td>248.528</td>\n",
       "      <td>600.701</td>\n",
       "      <td>496.957</td>\n",
       "      <td>562.589</td>\n",
       "      <td>161.242</td>\n",
       "      <td>428.764</td>\n",
       "      <td>364.166</td>\n",
       "    </tr>\n",
       "    <tr>\n",
       "      <th>3</th>\n",
       "      <td>411.526</td>\n",
       "      <td>424.690</td>\n",
       "      <td>195.087</td>\n",
       "      <td>560.279</td>\n",
       "      <td>148.483</td>\n",
       "      <td>172.712</td>\n",
       "      <td>205.261</td>\n",
       "      <td>335.292</td>\n",
       "      <td>389.180</td>\n",
       "      <td>421.931</td>\n",
       "      <td>...</td>\n",
       "      <td>76.867</td>\n",
       "      <td>217.119</td>\n",
       "      <td>228.931</td>\n",
       "      <td>318.952</td>\n",
       "      <td>513.784</td>\n",
       "      <td>358.028</td>\n",
       "      <td>628.985</td>\n",
       "      <td>64.746</td>\n",
       "      <td>377.364</td>\n",
       "      <td>376.755</td>\n",
       "    </tr>\n",
       "    <tr>\n",
       "      <th>4</th>\n",
       "      <td>352.564</td>\n",
       "      <td>461.656</td>\n",
       "      <td>204.790</td>\n",
       "      <td>497.579</td>\n",
       "      <td>159.929</td>\n",
       "      <td>235.265</td>\n",
       "      <td>268.972</td>\n",
       "      <td>387.189</td>\n",
       "      <td>399.120</td>\n",
       "      <td>437.170</td>\n",
       "      <td>...</td>\n",
       "      <td>98.427</td>\n",
       "      <td>196.381</td>\n",
       "      <td>260.193</td>\n",
       "      <td>439.384</td>\n",
       "      <td>478.446</td>\n",
       "      <td>289.196</td>\n",
       "      <td>564.748</td>\n",
       "      <td>67.193</td>\n",
       "      <td>396.536</td>\n",
       "      <td>302.703</td>\n",
       "    </tr>\n",
       "  </tbody>\n",
       "</table>\n",
       "<p>5 rows × 56 columns</p>\n",
       "</div>"
      ],
      "text/plain": [
       "     Value    Value    Value    Value    Value    Value    Value    Value  \\\n",
       "0  289.863  792.889  302.869  371.121  140.696  334.924  299.704  353.357   \n",
       "1  291.704  587.853  215.438  350.101  130.079  184.644  159.297  384.376   \n",
       "2  394.281  390.960  146.048  532.695  140.317  186.202  201.759  314.848   \n",
       "3  411.526  424.690  195.087  560.279  148.483  172.712  205.261  335.292   \n",
       "4  352.564  461.656  204.790  497.579  159.929  235.265  268.972  387.189   \n",
       "\n",
       "     Value    Value  ...    Value    Value    Value    Value    Value  \\\n",
       "0  631.267  466.130  ...   96.078  276.816  266.222  219.779  754.120   \n",
       "1  626.304  339.646  ...  103.717  344.160  259.550  140.388  689.636   \n",
       "2  573.621  459.111  ...  144.980  343.142  235.141  248.528  600.701   \n",
       "3  389.180  421.931  ...   76.867  217.119  228.931  318.952  513.784   \n",
       "4  399.120  437.170  ...   98.427  196.381  260.193  439.384  478.446   \n",
       "\n",
       "     Value    Value    Value    Value    Value  \n",
       "0  488.254  669.577   73.255  446.116  384.237  \n",
       "1  573.782  578.182  158.501  508.400  394.645  \n",
       "2  496.957  562.589  161.242  428.764  364.166  \n",
       "3  358.028  628.985   64.746  377.364  376.755  \n",
       "4  289.196  564.748   67.193  396.536  302.703  \n",
       "\n",
       "[5 rows x 56 columns]"
      ]
     },
     "execution_count": 33,
     "metadata": {},
     "output_type": "execute_result"
    }
   ],
   "source": [
    "df_cyan = pd.concat((pd.read_csv(f, usecols=['Value']) for f in cyan_data), axis = 1).fillna(0)\n",
    "df_yellow = pd.concat((pd.read_csv(f, usecols=['Value']) for f in yellow_data), axis = 1).fillna(0)\n",
    "df_magenta = pd.concat((pd.read_csv(f, usecols=['Value']) for f in magenta_data), axis = 1).fillna(0)\n",
    "\n",
    "# show example:\n",
    "df_magenta.head()"
   ]
  },
  {
   "cell_type": "markdown",
   "metadata": {},
   "source": [
    "Now we have 3 Nx56 dataframes that are actually usable ... not stupid `.csv` files"
   ]
  },
  {
   "cell_type": "markdown",
   "metadata": {},
   "source": [
    "### Center around max"
   ]
  },
  {
   "cell_type": "code",
   "execution_count": 55,
   "metadata": {},
   "outputs": [
    {
     "name": "stdout",
     "output_type": "stream",
     "text": [
      "Shortest length of cyan is at column 19\n",
      "Shortest length of yellow is at column 19\n",
      "Shortest length of magenta is at column 19\n"
     ]
    }
   ],
   "source": [
    "# find which signal had the smallest number of pixels drawn, use this as standard length\n",
    "shortest_cyan = np.argmax((df_cyan == 0).astype(int).sum(axis=0).values)\n",
    "shortest_yellow = np.argmax((df_yellow == 0).astype(int).sum(axis=0).values)\n",
    "shortest_magenta = np.argmax((df_magenta == 0).astype(int).sum(axis=0).values)\n",
    "print('Shortest length of cyan is at column {}'.format(shortest_cyan))\n",
    "print('Shortest length of yellow is at column {}'.format(shortest_yellow))\n",
    "print('Shortest length of magenta is at column {}'.format(shortest_magenta))"
   ]
  },
  {
   "cell_type": "code",
   "execution_count": 56,
   "metadata": {},
   "outputs": [
    {
     "name": "stdout",
     "output_type": "stream",
     "text": [
      "File 19 is data/_9_4_cyan.csv\n"
     ]
    }
   ],
   "source": [
    "print('File 19 is {}'.format(cyan_data[shortest_cyan]))"
   ]
  },
  {
   "cell_type": "markdown",
   "metadata": {},
   "source": [
    "Seems like `_9_4_cyan.csv` is the one with the shortest line! Now we need to find where this guy's maximum is:"
   ]
  },
  {
   "cell_type": "code",
   "execution_count": 77,
   "metadata": {},
   "outputs": [
    {
     "name": "stdout",
     "output_type": "stream",
     "text": [
      "Cyan maximum is at index 7\n"
     ]
    },
    {
     "data": {
      "text/plain": [
       "<matplotlib.collections.LineCollection at 0x7f985883b0d0>"
      ]
     },
     "execution_count": 77,
     "metadata": {},
     "output_type": "execute_result"
    },
    {
     "data": {
      "image/png": "[encoded data removed]",
      "text/plain": [
       "<Figure size 432x288 with 1 Axes>"
      ]
     },
     "metadata": {
      "needs_background": "light"
     },
     "output_type": "display_data"
    }
   ],
   "source": [
    "print('Cyan maximum is at index {}'.format(np.argmax(df_cyan.iloc[:,19].values)))\n",
    "cyan_shortest_viz = df_cyan.iloc[:,19].values\n",
    "plt.plot(np.ma.masked_equal(cyan_shortest_viz, 0))\n",
    "plt.vlines(np.argmax(cyan_shortest_viz), ymin= 288, ymax = 430, linestyles = 'dashed', colors = 'r') "
   ]
  },
  {
   "cell_type": "markdown",
   "metadata": {},
   "source": [
    "Now we write a function to realign the data:"
   ]
  },
  {
   "cell_type": "code",
   "execution_count": null,
   "metadata": {},
   "outputs": [],
   "source": [
    "def realign_data(in_data):\n",
    "    \"\"\"\n",
    "    Center data around maximum of shortest column, pad with 0's \n",
    "    \"\"\"\n",
    "    "
   ]
  }
 ],
 "metadata": {
  "kernelspec": {
   "display_name": "image_py3",
   "language": "python",
   "name": "image_py3"
  },
  "language_info": {
   "codemirror_mode": {
    "name": "ipython",
    "version": 3
   },
   "file_extension": ".py",
   "mimetype": "text/x-python",
   "name": "python",
   "nbconvert_exporter": "python",
   "pygments_lexer": "ipython3",
   "version": "3.7.8"
  }
 },
 "nbformat": 4,
 "nbformat_minor": 4
}
