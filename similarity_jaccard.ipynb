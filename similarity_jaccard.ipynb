{
 "cells": [
  {
   "cell_type": "code",
   "execution_count": 1,
   "metadata": {},
   "outputs": [],
   "source": [
    "import os\n",
    "import glob\n",
    "import natsort\n",
    "import numpy as np\n",
    "import pandas as pd\n",
    "import matplotlib.pyplot as plt"
   ]
  },
  {
   "cell_type": "markdown",
   "metadata": {},
   "source": [
    "# Compute DICE Coefficients From Images"
   ]
  },
  {
   "cell_type": "markdown",
   "metadata": {},
   "source": [
    "### Function to get all files sorted in a directory:"
   ]
  },
  {
   "cell_type": "code",
   "execution_count": 2,
   "metadata": {},
   "outputs": [],
   "source": [
    "def get_files(pattern):\n",
    "    \"\"\"\n",
    "    Extract files in alphanumerical order that match the provided pattern\n",
    "    \"\"\"\n",
    "    if isinstance(pattern, list):\n",
    "        pattern = os.path.join(*pattern)\n",
    "        \n",
    "    files = natsort.natsorted(glob.glob(pattern))\n",
    "    if not files:\n",
    "        raise FileNotFoundError('Pattern could not detect file(s)')\n",
    "        \n",
    "    return files"
   ]
  },
  {
   "cell_type": "markdown",
   "metadata": {},
   "source": [
    "### Input Cell:\n",
    "Place your path to input and output directories in `\" \"`."
   ]
  },
  {
   "cell_type": "code",
   "execution_count": 3,
   "metadata": {},
   "outputs": [],
   "source": [
    "data_dir = 'data/images'\n",
    "output_dir = 'outputs'"
   ]
  },
  {
   "cell_type": "markdown",
   "metadata": {},
   "source": [
    "Load images from `data_dir`:"
   ]
  },
  {
   "cell_type": "code",
   "execution_count": 4,
   "metadata": {},
   "outputs": [
    {
     "name": "stdout",
     "output_type": "stream",
     "text": [
      "There are 6 images in data directory\n"
     ]
    }
   ],
   "source": [
    "import re\n",
    "\n",
    "data_files = get_files(data_dir + '/*.jpg')\n",
    "print('There are {} images in data directory'.format(len(data_files)))\n",
    "\n",
    "# split by colors:\n",
    "cyan_data = [val for val in data_files if re.search(r'cyan\\.jpg', val)]\n",
    "yellow_data = [val for val in data_files if re.search(r'yellow\\.jpg', val)]\n",
    "magenta_data = [val for val in data_files if re.search(r'(mag|magenta)\\.jpg', val)]\n",
    "\n",
    "# get events:\n",
    "events = [val.split('_')[1] for val in cyan_data]\n",
    "assert len(events) == len(data_files)/3\n",
    "\n",
    "# sanity check to make sure they are the same number of files\n",
    "assert len(cyan_data)==len(yellow_data)==len(magenta_data)"
   ]
  },
  {
   "cell_type": "markdown",
   "metadata": {},
   "source": [
    "Per Event:\n",
    " - load the 3 channel's image data\n",
    " - convert from RGB to grayscale\n",
    " - threshold into binary images\n",
    " - compute similarity ([jaccard](https://scikit-learn.org/stable/modules/generated/sklearn.metrics.jaccard_score.html))"
   ]
  },
  {
   "cell_type": "code",
   "execution_count": 60,
   "metadata": {},
   "outputs": [
    {
     "data": {
      "application/vnd.jupyter.widget-view+json": {
       "model_id": "56dc83039f414b8d922cafc627e5be14",
       "version_major": 2,
       "version_minor": 0
      },
      "text/plain": [
       "HBox(children=(HTML(value=''), FloatProgress(value=0.0, max=2.0), HTML(value='')))"
      ]
     },
     "metadata": {},
     "output_type": "display_data"
    },
    {
     "name": "stdout",
     "output_type": "stream",
     "text": [
      "15\n",
      "98\n",
      "\n"
     ]
    }
   ],
   "source": [
    "from matplotlib import image\n",
    "from sklearn.metrics import jaccard_score\n",
    "from tqdm.notebook import tqdm\n",
    "\n",
    "# function for RGB - Grayscale conversion\n",
    "def rgb2gray(rgb):\n",
    "    coeffs = np.array([0.299, 0.587, 0.114])\n",
    "    return np.dot(rgb, coeffs)\n",
    "\n",
    "# pre-allocate for number of events\n",
    "similarity_scores = pd.DataFrame(np.zeros([2, len(events)]), index=['yellow', 'magenta'], columns = events)\n",
    "for i, event in enumerate(tqdm(events)):\n",
    "    # read each event's image data as RGB\n",
    "    cyan = image.imread(cyan_data[i])\n",
    "    yellow = image.imread(yellow_data[i])\n",
    "    magenta = image.imread(magenta_data[i])\n",
    "    \n",
    "    # concatenate into grayscale stacks, NxNx3 (cyan,yellow,magenta),\n",
    "    event_data = np.stack((rgb2gray(cyan), rgb2gray(yellow), rgb2gray(magenta)), axis=2)\n",
    "    \n",
    "    # binarize based on threshold and compute similarity\n",
    "    threshold = event_data[:,:,1:3].flatten().max() * 0.35     # could be adjusted\n",
    "    event_bin = np.where(event_data>threshold, 1, 0)    # 0 or 1 based on threshold\n",
    "    print(event)\n",
    "    similarity_scores[event]['yellow'] = jaccard_score(event_bin[:,:,0], event_bin[:,:,1], average = 'micro')\n",
    "    similarity_scores[event]['magenta'] = jaccard_score(event_bin[:,:,0], event_bin[:,:,2], average = 'micro')    "
   ]
  },
  {
   "cell_type": "markdown",
   "metadata": {},
   "source": [
    "### Visualize:"
   ]
  },
  {
   "cell_type": "code",
   "execution_count": 63,
   "metadata": {},
   "outputs": [
    {
     "data": {
      "text/plain": [
       "<AxesSubplot:ylabel='Frequency'>"
      ]
     },
     "execution_count": 63,
     "metadata": {},
     "output_type": "execute_result"
    },
    {
     "data": {
      "image/png": "[encoded data removed]",
      "text/plain": [
       "<Figure size 432x288 with 1 Axes>"
      ]
     },
     "metadata": {
      "needs_background": "light"
     },
     "output_type": "display_data"
    }
   ],
   "source": [
    "similarity_scores.transpose().plot.hist(bins=50, alpha=0.5)    # edit bins for bar width"
   ]
  },
  {
   "cell_type": "code",
   "execution_count": 62,
   "metadata": {},
   "outputs": [
    {
     "data": {
      "text/html": [
       "<div>\n",
       "<style scoped>\n",
       "    .dataframe tbody tr th:only-of-type {\n",
       "        vertical-align: middle;\n",
       "    }\n",
       "\n",
       "    .dataframe tbody tr th {\n",
       "        vertical-align: top;\n",
       "    }\n",
       "\n",
       "    .dataframe thead th {\n",
       "        text-align: right;\n",
       "    }\n",
       "</style>\n",
       "<table border=\"1\" class=\"dataframe\">\n",
       "  <thead>\n",
       "    <tr style=\"text-align: right;\">\n",
       "      <th></th>\n",
       "      <th>15</th>\n",
       "      <th>98</th>\n",
       "    </tr>\n",
       "  </thead>\n",
       "  <tbody>\n",
       "    <tr>\n",
       "      <th>yellow</th>\n",
       "      <td>0.179012</td>\n",
       "      <td>0.0</td>\n",
       "    </tr>\n",
       "    <tr>\n",
       "      <th>magenta</th>\n",
       "      <td>0.019417</td>\n",
       "      <td>0.0</td>\n",
       "    </tr>\n",
       "  </tbody>\n",
       "</table>\n",
       "</div>"
      ],
      "text/plain": [
       "               15   98\n",
       "yellow   0.179012  0.0\n",
       "magenta  0.019417  0.0"
      ]
     },
     "execution_count": 62,
     "metadata": {},
     "output_type": "execute_result"
    }
   ],
   "source": [
    "# look at the numbers\n",
    "similarity_scores"
   ]
  },
  {
   "cell_type": "code",
   "execution_count": 68,
   "metadata": {},
   "outputs": [
    {
     "data": {
      "text/plain": [
       "<matplotlib.image.AxesImage at 0x7f84636fe9d0>"
      ]
     },
     "execution_count": 68,
     "metadata": {},
     "output_type": "execute_result"
    },
    {
     "data": {
      "image/png": "[encoded data removed]",
      "text/plain": [
       "<Figure size 648x216 with 3 Axes>"
      ]
     },
     "metadata": {
      "needs_background": "light"
     },
     "output_type": "display_data"
    }
   ],
   "source": [
    "## optional cell, purely for visualizing images\n",
    "fig,ax=plt.subplots(1,3, figsize=(9,3), sharey=True)\n",
    "num_event = 0    # Put in number, starting at 0-{number of events -1}\n",
    "\n",
    "cyan = image.imread(cyan_data[num_event])\n",
    "yellow = image.imread(yellow_data[num_event])\n",
    "magenta = image.imread(magenta_data[num_event])\n",
    "\n",
    "ax[0].imshow(rgb2gray(cyan), cmap=plt.get_cmap('gray'))\n",
    "ax[1].imshow(rgb2gray(yellow), cmap=plt.get_cmap('gray'))\n",
    "ax[2].imshow(rgb2gray(magenta), cmap=plt.get_cmap('gray'))"
   ]
  },
  {
   "cell_type": "code",
   "execution_count": null,
   "metadata": {},
   "outputs": [],
   "source": []
  }
 ],
 "metadata": {
  "kernelspec": {
   "display_name": "image_py3",
   "language": "python",
   "name": "image_py3"
  },
  "language_info": {
   "codemirror_mode": {
    "name": "ipython",
    "version": 3
   },
   "file_extension": ".py",
   "mimetype": "text/x-python",
   "name": "python",
   "nbconvert_exporter": "python",
   "pygments_lexer": "ipython3",
   "version": "3.7.8"
  }
 },
 "nbformat": 4,
 "nbformat_minor": 4
}
